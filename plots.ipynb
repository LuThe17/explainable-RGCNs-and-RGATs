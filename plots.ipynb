{
 "cells": [
  {
   "cell_type": "code",
   "execution_count": 5,
   "metadata": {},
   "outputs": [
    {
     "name": "stderr",
     "output_type": "stream",
     "text": [
      "c:\\Users\\luisa\\anaconda3\\envs\\aifb\\lib\\site-packages\\tqdm\\auto.py:22: TqdmWarning: IProgress not found. Please update jupyter and ipywidgets. See https://ipywidgets.readthedocs.io/en/stable/user_install.html\n",
      "  from .autonotebook import tqdm as notebook_tqdm\n"
     ]
    }
   ],
   "source": [
    "import pandas as pd\n",
    "import numpy as np\n",
    "import matplotlib.pyplot as plt\n",
    "import torch"
   ]
  },
  {
   "cell_type": "code",
   "execution_count": 20,
   "metadata": {},
   "outputs": [
    {
     "data": {
      "text/plain": [
       "tensor([[2.4940e-01, 2.4994e-01, 2.5009e-01, 2.5058e-01],\n",
       "        [2.5000e-01, 2.5000e-01, 2.5000e-01, 2.5000e-01],\n",
       "        [2.4963e-01, 2.4989e-01, 2.4997e-01, 2.5052e-01],\n",
       "        ...,\n",
       "        [2.4959e-01, 2.5034e-01, 2.4957e-01, 2.5049e-01],\n",
       "        [2.4957e-01, 2.5027e-01, 2.4969e-01, 2.5046e-01],\n",
       "        [1.8273e-04, 4.9089e-07, 9.9965e-01, 1.6961e-04]])"
      ]
     },
     "execution_count": 20,
     "metadata": {},
     "output_type": "execute_result"
    }
   ],
   "source": [
    "def pt_file_to_tensor(file):\n",
    "    \"\"\"\n",
    "    Converts a file to a tensor\n",
    "    :param file: the file to be converted\n",
    "    :return: the tensor\n",
    "    \"\"\"\n",
    "    with open(file, 'rb') as f:\n",
    "        tensor = torch.load(f)\n",
    "    return tensor\n",
    "\n",
    "pred = pt_file_to_tensor('out/IMDB/RGAT_no_emb/pred_before.pt')\n",
    "pred_after_2597 = pt_file_to_tensor('out/IMDB/RGAT_no_emb/pred_after(1, tensor(2597))adapt_tensor([   2, 2082])_5.pt')\n",
    "pred_after_673 = pt_file_to_tensor('out/IMDB/RGAT_no_emb/pred_after(2, tensor(673))adapt_1894_6.pt')\n",
    "pred_after_1894 = pt_file_to_tensor('out/IMDB/RGAT_no_emb/pred_after(2, tensor(673))adapt_tensor([   3, 1894])_9.pt')\n",
    "pred_after_2657 = pt_file_to_tensor('out/IMDB/RGAT_no_emb/pred_after(3, tensor(2657))adapt_780_0.pt')\n",
    "pred_after_780 = pt_file_to_tensor('out/IMDB/RGAT_no_emb/pred_after(3, tensor(2657))adapt_tensor([  2, 780])_17.pt')\n",
    "pred\n",
    "\n"
   ]
  },
  {
   "cell_type": "code",
   "execution_count": 21,
   "metadata": {},
   "outputs": [
    {
     "data": {
      "text/plain": [
       "tensor([[2.4940e-01, 2.4994e-01, 2.5009e-01, 2.5058e-01],\n",
       "        [2.5000e-01, 2.5000e-01, 2.5000e-01, 2.5000e-01],\n",
       "        [2.4963e-01, 2.4989e-01, 2.4997e-01, 2.5052e-01],\n",
       "        ...,\n",
       "        [2.4959e-01, 2.5034e-01, 2.4957e-01, 2.5049e-01],\n",
       "        [2.4957e-01, 2.5027e-01, 2.4969e-01, 2.5046e-01],\n",
       "        [1.8273e-04, 4.9089e-07, 9.9965e-01, 1.6961e-04]])"
      ]
     },
     "execution_count": 21,
     "metadata": {},
     "output_type": "execute_result"
    }
   ],
   "source": [
    "pred_after_2597"
   ]
  },
  {
   "cell_type": "code",
   "execution_count": 23,
   "metadata": {},
   "outputs": [
    {
     "data": {
      "text/plain": [
       "tensor(indices=tensor([], size=(2, 0)),\n",
       "       values=tensor([], size=(0,)),\n",
       "       size=(2929, 4), nnz=0, layout=torch.sparse_coo)"
      ]
     },
     "execution_count": 23,
     "metadata": {},
     "output_type": "execute_result"
    }
   ],
   "source": [
    "(pred_after_780-pred).to_sparse_coo()"
   ]
  },
  {
   "cell_type": "code",
   "execution_count": 26,
   "metadata": {},
   "outputs": [
    {
     "data": {
      "text/plain": [
       "tensor(indices=tensor([], size=(2, 0)),\n",
       "       values=tensor([], size=(0,)),\n",
       "       size=(2929, 4), nnz=0, layout=torch.sparse_coo)"
      ]
     },
     "execution_count": 26,
     "metadata": {},
     "output_type": "execute_result"
    }
   ],
   "source": [
    "(pred-pred_after_1894).to_sparse_coo()"
   ]
  },
  {
   "cell_type": "code",
   "execution_count": 27,
   "metadata": {},
   "outputs": [
    {
     "data": {
      "text/html": [
       "<div>\n",
       "<style scoped>\n",
       "    .dataframe tbody tr th:only-of-type {\n",
       "        vertical-align: middle;\n",
       "    }\n",
       "\n",
       "    .dataframe tbody tr th {\n",
       "        vertical-align: top;\n",
       "    }\n",
       "\n",
       "    .dataframe thead th {\n",
       "        text-align: right;\n",
       "    }\n",
       "</style>\n",
       "<table border=\"1\" class=\"dataframe\">\n",
       "  <thead>\n",
       "    <tr style=\"text-align: right;\">\n",
       "      <th></th>\n",
       "      <th>Unnamed: 0</th>\n",
       "      <th>Unnamed: 1</th>\n",
       "      <th>tensor_nodes</th>\n",
       "      <th>max_nodes</th>\n",
       "      <th>pos_max_nodes</th>\n",
       "      <th>min_nodes</th>\n",
       "      <th>pos_min_nodes</th>\n",
       "    </tr>\n",
       "  </thead>\n",
       "  <tbody>\n",
       "    <tr>\n",
       "      <th>0</th>\n",
       "      <td>0</td>\n",
       "      <td>tensor(341)</td>\n",
       "      <td>tensor([0., 0., 0.,  ..., 0., 0., 0.])</td>\n",
       "      <td>0.000000</td>\n",
       "      <td>0</td>\n",
       "      <td>0.000000</td>\n",
       "      <td>0</td>\n",
       "    </tr>\n",
       "    <tr>\n",
       "      <th>1</th>\n",
       "      <td>1</td>\n",
       "      <td>tensor(2597)</td>\n",
       "      <td>tensor([0., 0., 0.,  ..., 0., 0., 0.])</td>\n",
       "      <td>0.161573</td>\n",
       "      <td>1582</td>\n",
       "      <td>-0.000882</td>\n",
       "      <td>639</td>\n",
       "    </tr>\n",
       "    <tr>\n",
       "      <th>2</th>\n",
       "      <td>2</td>\n",
       "      <td>tensor(673)</td>\n",
       "      <td>tensor([0., 0., 0.,  ..., 0., 0., 0.])</td>\n",
       "      <td>3.555420</td>\n",
       "      <td>1894</td>\n",
       "      <td>-5.212372</td>\n",
       "      <td>780</td>\n",
       "    </tr>\n",
       "    <tr>\n",
       "      <th>3</th>\n",
       "      <td>3</td>\n",
       "      <td>tensor(2657)</td>\n",
       "      <td>tensor([0., 0., 0.,  ..., 0., 0., 0.])</td>\n",
       "      <td>8.058411</td>\n",
       "      <td>780</td>\n",
       "      <td>-9.297858</td>\n",
       "      <td>2657</td>\n",
       "    </tr>\n",
       "    <tr>\n",
       "      <th>4</th>\n",
       "      <td>4</td>\n",
       "      <td>tensor(865)</td>\n",
       "      <td>tensor([0., 0., 0.,  ..., 0., 0., 0.])</td>\n",
       "      <td>0.824438</td>\n",
       "      <td>2480</td>\n",
       "      <td>-0.022616</td>\n",
       "      <td>865</td>\n",
       "    </tr>\n",
       "  </tbody>\n",
       "</table>\n",
       "</div>"
      ],
      "text/plain": [
       "   Unnamed: 0    Unnamed: 1                            tensor_nodes  \\\n",
       "0           0   tensor(341)  tensor([0., 0., 0.,  ..., 0., 0., 0.])   \n",
       "1           1  tensor(2597)  tensor([0., 0., 0.,  ..., 0., 0., 0.])   \n",
       "2           2   tensor(673)  tensor([0., 0., 0.,  ..., 0., 0., 0.])   \n",
       "3           3  tensor(2657)  tensor([0., 0., 0.,  ..., 0., 0., 0.])   \n",
       "4           4   tensor(865)  tensor([0., 0., 0.,  ..., 0., 0., 0.])   \n",
       "\n",
       "   max_nodes  pos_max_nodes  min_nodes  pos_min_nodes  \n",
       "0   0.000000              0   0.000000              0  \n",
       "1   0.161573           1582  -0.000882            639  \n",
       "2   3.555420           1894  -5.212372            780  \n",
       "3   8.058411            780  -9.297858           2657  \n",
       "4   0.824438           2480  -0.022616            865  "
      ]
     },
     "execution_count": 27,
     "metadata": {},
     "output_type": "execute_result"
    }
   ],
   "source": [
    "pd.read_csv('out/IMDB/RGAT_no_emb/LRP_nodes_table.csv')"
   ]
  },
  {
   "cell_type": "code",
   "execution_count": null,
   "metadata": {},
   "outputs": [],
   "source": []
  }
 ],
 "metadata": {
  "kernelspec": {
   "display_name": "aifb",
   "language": "python",
   "name": "python3"
  },
  "language_info": {
   "codemirror_mode": {
    "name": "ipython",
    "version": 3
   },
   "file_extension": ".py",
   "mimetype": "text/x-python",
   "name": "python",
   "nbconvert_exporter": "python",
   "pygments_lexer": "ipython3",
   "version": "3.9.16"
  },
  "orig_nbformat": 4
 },
 "nbformat": 4,
 "nbformat_minor": 2
}
