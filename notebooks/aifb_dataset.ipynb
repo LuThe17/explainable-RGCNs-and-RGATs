{
 "cells": [
  {
   "cell_type": "code",
   "execution_count": 2,
   "metadata": {},
   "outputs": [
    {
     "name": "stdout",
     "output_type": "stream",
     "text": [
      "29226\n"
     ]
    }
   ],
   "source": [
    "from rdflib import Graph\n",
    "import rdflib\n",
    "import pprint\n",
    "import pandas as pd\n",
    "\n",
    "g = Graph()\n",
    "g.parse(\"../data/aifb_fixed_complete.nt\")\n",
    "\n",
    "print(len(g))\n",
    "# prints: 2\n",
    "import pprint\n",
    "#for stmt in g:\n",
    "#    pprint.pprint(stmt)"
   ]
  },
  {
   "cell_type": "code",
   "execution_count": 3,
   "metadata": {},
   "outputs": [
    {
     "name": "stdout",
     "output_type": "stream",
     "text": [
      "owl http://www.w3.org/2002/07/owl#\n",
      "rdf http://www.w3.org/1999/02/22-rdf-syntax-ns#\n",
      "rdfs http://www.w3.org/2000/01/rdf-schema#\n",
      "xsd http://www.w3.org/2001/XMLSchema#\n",
      "xml http://www.w3.org/XML/1998/namespace\n"
     ]
    }
   ],
   "source": [
    "for prefix, ns in g.namespaces():\n",
    "    print(prefix, ns)"
   ]
  },
  {
   "cell_type": "code",
   "execution_count": 4,
   "metadata": {},
   "outputs": [
    {
     "data": {
      "text/plain": [
       "36"
      ]
     },
     "execution_count": 4,
     "metadata": {},
     "output_type": "execute_result"
    }
   ],
   "source": [
    "data=pd.read_csv('../data/trainingSet.tsv',sep='\\t')\n",
    "test = pd.read_csv('../data/testSet.tsv', sep='\\t')\n",
    "len(test)"
   ]
  },
  {
   "cell_type": "code",
   "execution_count": 5,
   "metadata": {},
   "outputs": [
    {
     "name": "stdout",
     "output_type": "stream",
     "text": [
      "29226\n"
     ]
    }
   ],
   "source": [
    "g = Graph()\n",
    "g.parse(\"../data/aifb_fixed_complete.nt\")\n",
    "\n",
    "print(len(g))\n",
    "# prints: 2\n",
    "\n",
    "#for stmt in g:\n",
    "#    pprint.pprint(stmt)\n",
    "l = []\n",
    "for row in data.index:\n",
    "    person = rdflib.term.URIRef(data.person[row])\n",
    "    ag = rdflib.term.URIRef(data.label_affiliation[row])\n",
    "    aff = rdflib.term.URIRef('http://swrc.ontoware.org/ontology#affiliation')\n",
    "    mem = rdflib.term.URIRef('http://swrc.ontoware.org/ontology#member')\n",
    "    emp = rdflib.term.URIRef('http://swrc.ontoware.org/ontology#employs')\n",
    "    for s, p, o in g:\n",
    "        if s == person and p == aff  and o == ag:\n",
    "            l.append(s)\n",
    "            l.append(p)\n",
    "            l.append(o)\n",
    "            g.remove((person, aff, ag))\n",
    "        if s == ag and p == mem  and o == person:\n",
    "            l.append(s)\n",
    "            l.append(p)\n",
    "            l.append(o)\n",
    "            g.remove((ag, mem, person))\n",
    "        if s == ag and p == emp  and o == person:\n",
    "            l.append(s)\n",
    "            l.append(p)\n",
    "            l.append(o)\n",
    "            g.remove((ag, emp, person))\n",
    "for row in test.index:\n",
    "    person = rdflib.term.URIRef(data.person[row])\n",
    "    ag = rdflib.term.URIRef(data.label_affiliation[row])\n",
    "    aff = rdflib.term.URIRef('http://swrc.ontoware.org/ontology#affiliation')\n",
    "    mem = rdflib.term.URIRef('http://swrc.ontoware.org/ontology#member')\n",
    "    emp = rdflib.term.URIRef('http://swrc.ontoware.org/ontology#employs')\n",
    "    for s, p, o in g:\n",
    "        if s == person and p == aff  and o == ag:\n",
    "            l.append(s)\n",
    "            l.append(p)\n",
    "            l.append(o)\n",
    "            g.remove((person, aff, ag))\n",
    "        if s == ag and p == mem  and o == person:\n",
    "            l.append(s)\n",
    "            l.append(p)\n",
    "            l.append(o)\n",
    "            g.remove((ag, mem, person))\n",
    "        if s == ag and p == emp  and o == person:\n",
    "            l.append(s)\n",
    "            l.append(p)\n",
    "            l.append(o)\n",
    "            g.remove((ag, emp, person))"
   ]
  },
  {
   "cell_type": "code",
   "execution_count": 6,
   "metadata": {},
   "outputs": [
    {
     "name": "stdout",
     "output_type": "stream",
     "text": [
      "29024\n"
     ]
    }
   ],
   "source": [
    "print(len(g))"
   ]
  },
  {
   "cell_type": "code",
   "execution_count": 7,
   "metadata": {},
   "outputs": [
    {
     "name": "stderr",
     "output_type": "stream",
     "text": [
      "c:\\Users\\luisa\\anaconda3\\envs\\aifb\\lib\\site-packages\\rdflib\\plugins\\serializers\\nt.py:35: UserWarning: NTSerializer always uses UTF-8 encoding. Given encoding was: None\n",
      "  warnings.warn(\n"
     ]
    }
   ],
   "source": [
    "v = g.serialize(format=\"nt\", destination=\"../data/aifb_witho_complete.nt\")"
   ]
  }
 ],
 "metadata": {
  "kernelspec": {
   "display_name": "aifb",
   "language": "python",
   "name": "python3"
  },
  "language_info": {
   "codemirror_mode": {
    "name": "ipython",
    "version": 3
   },
   "file_extension": ".py",
   "mimetype": "text/x-python",
   "name": "python",
   "nbconvert_exporter": "python",
   "pygments_lexer": "ipython3",
   "version": "3.9.16"
  },
  "orig_nbformat": 4,
  "vscode": {
   "interpreter": {
    "hash": "86d89a99d3a66431c155d7607fd62dc43c77e14d2cbad7d1549b04384eb6e9fd"
   }
  }
 },
 "nbformat": 4,
 "nbformat_minor": 2
}
